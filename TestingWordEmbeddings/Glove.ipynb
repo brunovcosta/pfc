{
 "cells": [
  {
   "cell_type": "markdown",
   "metadata": {},
   "source": [
    "# Testes com Word2Vec"
   ]
  },
  {
   "cell_type": "markdown",
   "metadata": {},
   "source": [
    "## dependências"
   ]
  },
  {
   "cell_type": "code",
   "execution_count": 26,
   "metadata": {},
   "outputs": [],
   "source": [
    "from gensim.models import KeyedVectors\n",
    "import numpy as np\n",
    "import numpy.linalg as la\n"
   ]
  },
  {
   "cell_type": "code",
   "execution_count": 28,
   "metadata": {},
   "outputs": [],
   "source": [
    "model = KeyedVectors.load_word2vec_format('../dataset/glove/glove_s300.txt', unicode_errors=\"ignore\")"
   ]
  },
  {
   "cell_type": "code",
   "execution_count": 29,
   "metadata": {
    "scrolled": false
   },
   "outputs": [
    {
     "data": {
      "text/plain": [
       "6.801178"
      ]
     },
     "execution_count": 29,
     "metadata": {},
     "output_type": "execute_result"
    }
   ],
   "source": [
    "la.norm(model.word_vec('casa') - model.word_vec('lar'))"
   ]
  },
  {
   "cell_type": "code",
   "execution_count": 30,
   "metadata": {},
   "outputs": [
    {
     "data": {
      "text/plain": [
       "6.7510896"
      ]
     },
     "execution_count": 30,
     "metadata": {},
     "output_type": "execute_result"
    }
   ],
   "source": [
    "la.norm(model.word_vec('casa') - model.word_vec('apartamento'))"
   ]
  },
  {
   "cell_type": "code",
   "execution_count": 63,
   "metadata": {},
   "outputs": [
    {
     "data": {
      "text/plain": [
       "[('homem', 0.7523521780967712),\n",
       " ('pai', 0.7291187644004822),\n",
       " ('mãe', 0.696486234664917),\n",
       " ('garoto', 0.6437345743179321),\n",
       " ('menino', 0.6303806304931641),\n",
       " ('ele', 0.6249613761901855),\n",
       " ('amigo', 0.6133742332458496),\n",
       " ('irmão', 0.6043374538421631),\n",
       " ('filho', 0.6039380431175232),\n",
       " ('rapaz', 0.6035242080688477)]"
      ]
     },
     "execution_count": 63,
     "metadata": {},
     "output_type": "execute_result"
    }
   ],
   "source": [
    "model.similar_by_vector(model.word_vec('homem') - model.word_vec('mulher') + model.word_vec('mãe')) "
   ]
  },
  {
   "cell_type": "code",
   "execution_count": 61,
   "metadata": {},
   "outputs": [
    {
     "data": {
      "text/plain": [
       "8.2807159"
      ]
     },
     "execution_count": 61,
     "metadata": {},
     "output_type": "execute_result"
    }
   ],
   "source": [
    "la.norm(model.word_vec('casa') - model.word_vec('buraco'))"
   ]
  },
  {
   "cell_type": "code",
   "execution_count": 33,
   "metadata": {},
   "outputs": [
    {
     "data": {
      "text/plain": [
       "8.9180584"
      ]
     },
     "execution_count": 33,
     "metadata": {},
     "output_type": "execute_result"
    }
   ],
   "source": [
    "la.norm(model.word_vec('casa') - model.word_vec('celular'))"
   ]
  },
  {
   "cell_type": "code",
   "execution_count": 45,
   "metadata": {},
   "outputs": [
    {
     "data": {
      "text/plain": [
       "0.74246257177927955"
      ]
     },
     "execution_count": 45,
     "metadata": {},
     "output_type": "execute_result"
    }
   ],
   "source": [
    "model.distance('casa', 'celular')"
   ]
  },
  {
   "cell_type": "code",
   "execution_count": 55,
   "metadata": {},
   "outputs": [
    {
     "data": {
      "text/plain": [
       "[('pai', 0.7286631464958191),\n",
       " ('garoto', 0.643643856048584),\n",
       " ('menino', 0.6301537752151489),\n",
       " ('ele', 0.6248895525932312),\n",
       " ('amigo', 0.6132797598838806),\n",
       " ('irmão', 0.6040303707122803),\n",
       " ('filho', 0.6035030484199524),\n",
       " ('rapaz', 0.6034184098243713),\n",
       " ('velho', 0.5907155871391296),\n",
       " ('sabe', 0.5736060738563538)]"
      ]
     },
     "execution_count": 55,
     "metadata": {},
     "output_type": "execute_result"
    }
   ],
   "source": [
    "model.most_similar(positive=['homem', 'mãe'], negative=['mulher'])"
   ]
  },
  {
   "cell_type": "code",
   "execution_count": 54,
   "metadata": {},
   "outputs": [
    {
     "data": {
      "text/plain": [
       "[('bioquímica', 0.6306655406951904),\n",
       " ('biologia', 0.6057215929031372),\n",
       " ('engenharia', 0.5894917845726013),\n",
       " ('física', 0.5874646902084351),\n",
       " ('mecânica', 0.5820770859718323),\n",
       " ('matemática', 0.5787794589996338),\n",
       " ('químico', 0.5511103272438049),\n",
       " ('molecular', 0.5448371171951294),\n",
       " ('orgânica', 0.5328538417816162),\n",
       " ('bioinorgânica', 0.5238595604896545)]"
      ]
     },
     "execution_count": 54,
     "metadata": {},
     "output_type": "execute_result"
    }
   ],
   "source": [
    "model.similar_by_word('química')"
   ]
  },
  {
   "cell_type": "code",
   "execution_count": 57,
   "metadata": {},
   "outputs": [
    {
     "data": {
      "text/plain": [
       "7.154459"
      ]
     },
     "execution_count": 57,
     "metadata": {},
     "output_type": "execute_result"
    }
   ],
   "source": [
    "la.norm(model.word_vec('casa'))"
   ]
  },
  {
   "cell_type": "code",
   "execution_count": null,
   "metadata": {
    "collapsed": true
   },
   "outputs": [],
   "source": []
  }
 ],
 "metadata": {
  "kernelspec": {
   "display_name": "Python 3",
   "language": "python",
   "name": "python3"
  },
  "language_info": {
   "codemirror_mode": {
    "name": "ipython",
    "version": 3
   },
   "file_extension": ".py",
   "mimetype": "text/x-python",
   "name": "python",
   "nbconvert_exporter": "python",
   "pygments_lexer": "ipython3",
   "version": "3.6.1"
  }
 },
 "nbformat": 4,
 "nbformat_minor": 2
}
