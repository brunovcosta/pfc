{
 "cells": [
  {
   "cell_type": "markdown",
   "metadata": {},
   "source": [
    "# Convolutional Neural Network\n",
    "\n",
    "## Model\n",
    "![](https://cdn-images-1.medium.com/max/800/0*wigQtmJiv0bddwPI.)\n",
    "\n",
    "## Source\n",
    "\n",
    " - [Medium article](https://towardsdatascience.com/understanding-how-convolutional-neural-network-cnn-perform-text-classification-with-word-d2ee64b9dd0b)\n",
    " - [White paper](http://www.aclweb.org/anthology/D14-1181)"
   ]
  },
  {
   "cell_type": "markdown",
   "metadata": {},
   "source": [
    "## Dados"
   ]
  },
  {
   "cell_type": "code",
   "execution_count": 2,
   "metadata": {},
   "outputs": [
    {
     "name": "stderr",
     "output_type": "stream",
     "text": [
      "Using TensorFlow backend.\n"
     ]
    }
   ],
   "source": [
    "import keras\n",
    "import numpy as np\n",
    "from src.datasetAPI import RotaDosConcursos\n",
    "from gensim.models import KeyedVectors\n",
    "from nltk.tokenize import word_tokenize"
   ]
  },
  {
   "cell_type": "code",
   "execution_count": 3,
   "metadata": {},
   "outputs": [],
   "source": [
    "number = 100\n",
    "dimensions = 50\n",
    "categories_count = 50\n",
    "input_layer = keras.Input([number,dimensions])"
   ]
  },
  {
   "cell_type": "code",
   "execution_count": 4,
   "metadata": {},
   "outputs": [],
   "source": [
    "train_data = RotaDosConcursos(subset='train')\n",
    "test_data = RotaDosConcursos(subset='test')\n",
    "\n",
    "train_categories_len = len(train_data.target_names)"
   ]
  },
  {
   "cell_type": "code",
   "execution_count": null,
   "metadata": {},
   "outputs": [],
   "source": [
    "word_embed_path = 'dataset/word2vec/cbow_s%d.txt'%dimensions\n",
    "word_embed_model = KeyedVectors.load_word2vec_format(\n",
    "    word_embed_path,\n",
    "    unicode_errors=\"ignore\")"
   ]
  },
  {
   "cell_type": "code",
   "execution_count": null,
   "metadata": {},
   "outputs": [],
   "source": [
    "setence_vectors = []\n",
    "for setence in train_data.clean_text:\n",
    "    try:\n",
    "        setence_vectors.append([word_embed_model[word] for word in word_tokenize(setence.lower())])\n",
    "    except KeyError:\n",
    "        pass\n",
    "    except AttributeError:\n",
    "        print(setence)"
   ]
  },
  {
   "cell_type": "markdown",
   "metadata": {},
   "source": [
    "## Normalization"
   ]
  },
  {
   "cell_type": "code",
   "execution_count": null,
   "metadata": {},
   "outputs": [],
   "source": [
    "max_setence_size = max([len(setence) for setence in setence_vectors])"
   ]
  },
  {
   "cell_type": "code",
   "execution_count": null,
   "metadata": {},
   "outputs": [],
   "source": [
    "normalized_input = [np.concatenate((setence,np.zeros((max_setence_size - len(setence),dimensions)))) for setence in setence_vectors]"
   ]
  },
  {
   "cell_type": "markdown",
   "metadata": {},
   "source": [
    "## Model"
   ]
  },
  {
   "cell_type": "code",
   "execution_count": null,
   "metadata": {},
   "outputs": [],
   "source": [
    "filter_layer_4_1 = keras.layers.Conv1D(1, 4, activation='relu')(input_layer)\n",
    "filter_layer_4_2 = keras.layers.Conv1D(1, 4, activation='relu')(input_layer)\n",
    "\n",
    "filter_layer_3_1 = keras.layers.Conv1D(1, 3, activation='relu')(input_layer)\n",
    "filter_layer_3_2 = keras.layers.Conv1D(1, 3, activation='relu')(input_layer)\n",
    "\n",
    "filter_layer_2_1 = keras.layers.Conv1D(1, 2, activation='relu')(input_layer)\n",
    "filter_layer_2_2 = keras.layers.Conv1D(1, 2, activation='relu')(input_layer)"
   ]
  },
  {
   "cell_type": "code",
   "execution_count": null,
   "metadata": {},
   "outputs": [],
   "source": [
    "max_layer_4_1 = keras.layers.MaxPooling1D(number - 4 + 1)(filter_layer_4_1)\n",
    "max_layer_4_2 = keras.layers.MaxPooling1D(number - 4 + 1)(filter_layer_4_2)\n",
    "\n",
    "max_layer_3_1 = keras.layers.MaxPooling1D(number - 3 + 1)(filter_layer_3_1)\n",
    "max_layer_3_2 = keras.layers.MaxPooling1D(number - 3 + 1)(filter_layer_3_2)\n",
    "\n",
    "max_layer_2_1 = keras.layers.MaxPooling1D(number - 2 + 1)(filter_layer_2_1)\n",
    "max_layer_2_2 = keras.layers.MaxPooling1D(number - 2 + 1)(filter_layer_2_2)"
   ]
  },
  {
   "cell_type": "code",
   "execution_count": null,
   "metadata": {},
   "outputs": [],
   "source": [
    "concat1max = keras.layers.Concatenate(axis=1)([max_layer_4_1,\n",
    "                                               max_layer_4_2,\n",
    "                                               max_layer_3_1,\n",
    "                                               max_layer_3_2,\n",
    "                                               max_layer_2_1,\n",
    "                                               max_layer_2_2])"
   ]
  },
  {
   "cell_type": "code",
   "execution_count": null,
   "metadata": {},
   "outputs": [],
   "source": [
    "output_layer = keras.layers.Dense(categories_count)(concat1max)"
   ]
  },
  {
   "cell_type": "code",
   "execution_count": null,
   "metadata": {},
   "outputs": [],
   "source": [
    "model = keras.Model(input_layer,output_layer)"
   ]
  },
  {
   "cell_type": "code",
   "execution_count": null,
   "metadata": {},
   "outputs": [],
   "source": [
    "model.compile(optimizer='adam',loss='categorical_crossentropy')"
   ]
  },
  {
   "cell_type": "code",
   "execution_count": null,
   "metadata": {},
   "outputs": [],
   "source": [
    "model.evaluate(np.array(normalized_input))"
   ]
  }
 ],
 "metadata": {
  "kernelspec": {
   "display_name": "Python 3",
   "language": "python",
   "name": "python3"
  },
  "language_info": {
   "codemirror_mode": {
    "name": "ipython",
    "version": 3
   },
   "file_extension": ".py",
   "mimetype": "text/x-python",
   "name": "python",
   "nbconvert_exporter": "python",
   "pygments_lexer": "ipython3",
   "version": "3.5.2"
  }
 },
 "nbformat": 4,
 "nbformat_minor": 2
}
